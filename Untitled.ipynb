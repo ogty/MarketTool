{
 "cells": [
  {
   "cell_type": "code",
   "execution_count": 1,
   "id": "bdc756ce",
   "metadata": {},
   "outputs": [],
   "source": [
    "import pandas as pd\n",
    "\n",
    "\n",
    "df = pd.read_csv(\"./data/JP.csv\")"
   ]
  },
  {
   "cell_type": "code",
   "execution_count": 2,
   "id": "ab5c954f",
   "metadata": {},
   "outputs": [
    {
     "data": {
      "text/html": [
       "<div>\n",
       "<style scoped>\n",
       "    .dataframe tbody tr th:only-of-type {\n",
       "        vertical-align: middle;\n",
       "    }\n",
       "\n",
       "    .dataframe tbody tr th {\n",
       "        vertical-align: top;\n",
       "    }\n",
       "\n",
       "    .dataframe thead th {\n",
       "        text-align: right;\n",
       "    }\n",
       "</style>\n",
       "<table border=\"1\" class=\"dataframe\">\n",
       "  <thead>\n",
       "    <tr style=\"text-align: right;\">\n",
       "      <th></th>\n",
       "      <th>コード</th>\n",
       "      <th>会社名</th>\n",
       "      <th>市場区分</th>\n",
       "      <th>新市場区分</th>\n",
       "      <th>「上場維持基準の適合に向けた計画書」を開示している会社</th>\n",
       "      <th>備考</th>\n",
       "    </tr>\n",
       "  </thead>\n",
       "  <tbody>\n",
       "    <tr>\n",
       "      <th>0</th>\n",
       "      <td>1301</td>\n",
       "      <td>株式会社極洋</td>\n",
       "      <td>市場第一部</td>\n",
       "      <td>プライム市場</td>\n",
       "      <td>NaN</td>\n",
       "      <td>NaN</td>\n",
       "    </tr>\n",
       "    <tr>\n",
       "      <th>1</th>\n",
       "      <td>1332</td>\n",
       "      <td>日本水産株式会社</td>\n",
       "      <td>市場第一部</td>\n",
       "      <td>プライム市場</td>\n",
       "      <td>NaN</td>\n",
       "      <td>NaN</td>\n",
       "    </tr>\n",
       "    <tr>\n",
       "      <th>2</th>\n",
       "      <td>1333</td>\n",
       "      <td>マルハニチロ株式会社</td>\n",
       "      <td>市場第一部</td>\n",
       "      <td>プライム市場</td>\n",
       "      <td>NaN</td>\n",
       "      <td>NaN</td>\n",
       "    </tr>\n",
       "    <tr>\n",
       "      <th>3</th>\n",
       "      <td>1352</td>\n",
       "      <td>株式会社ホウスイ</td>\n",
       "      <td>市場第一部</td>\n",
       "      <td>スタンダード市場</td>\n",
       "      <td>✓</td>\n",
       "      <td>NaN</td>\n",
       "    </tr>\n",
       "    <tr>\n",
       "      <th>4</th>\n",
       "      <td>1375</td>\n",
       "      <td>株式会社雪国まいたけ</td>\n",
       "      <td>市場第一部</td>\n",
       "      <td>プライム市場</td>\n",
       "      <td>NaN</td>\n",
       "      <td>NaN</td>\n",
       "    </tr>\n",
       "  </tbody>\n",
       "</table>\n",
       "</div>"
      ],
      "text/plain": [
       "    コード         会社名   市場区分     新市場区分 「上場維持基準の適合に向けた計画書」を開示している会社   備考\n",
       "0  1301      株式会社極洋  市場第一部    プライム市場                         NaN  NaN\n",
       "1  1332    日本水産株式会社  市場第一部    プライム市場                         NaN  NaN\n",
       "2  1333  マルハニチロ株式会社  市場第一部    プライム市場                         NaN  NaN\n",
       "3  1352    株式会社ホウスイ  市場第一部  スタンダード市場                           ✓  NaN\n",
       "4  1375  株式会社雪国まいたけ  市場第一部    プライム市場                         NaN  NaN"
      ]
     },
     "execution_count": 2,
     "metadata": {},
     "output_type": "execute_result"
    }
   ],
   "source": [
    "df.head()"
   ]
  },
  {
   "cell_type": "code",
   "execution_count": 6,
   "id": "e37966e8",
   "metadata": {},
   "outputs": [
    {
     "data": {
      "text/plain": [
       "{'プライム市場': 1840,\n",
       " 'スタンダード市場': 1475,\n",
       " 'グロース市場': 456,\n",
       " 'グロース市場（外国株）': 3,\n",
       " 'スタンダード市場（外国株）': 2,\n",
       " 'プライム市場（外国株）': 1}"
      ]
     },
     "execution_count": 6,
     "metadata": {},
     "output_type": "execute_result"
    }
   ],
   "source": [
    "new_market_distributions = dict(df[\"新市場区分\"].value_counts())\n",
    "new_market_distributions"
   ]
  },
  {
   "cell_type": "code",
   "execution_count": 11,
   "id": "4cdb64a2",
   "metadata": {},
   "outputs": [],
   "source": [
    "count = 0\n",
    "d = {}\n",
    "for k, v in new_market_distributions.items():\n",
    "    if count == 3:\n",
    "        break\n",
    "    else:\n",
    "        d[k] = v\n",
    "        \n",
    "    count += 1"
   ]
  },
  {
   "cell_type": "code",
   "execution_count": 12,
   "id": "04c12c4e",
   "metadata": {},
   "outputs": [
    {
     "data": {
      "text/plain": [
       "{'プライム市場': 1840, 'スタンダード市場': 1475, 'グロース市場': 456}"
      ]
     },
     "execution_count": 12,
     "metadata": {},
     "output_type": "execute_result"
    }
   ],
   "source": [
    "d"
   ]
  },
  {
   "cell_type": "code",
   "execution_count": 22,
   "id": "5737fc82",
   "metadata": {},
   "outputs": [
    {
     "data": {
      "image/png": "[encoded data removed]",
      "text/plain": [
       "<Figure size 432x288 with 1 Axes>"
      ]
     },
     "metadata": {},
     "output_type": "display_data"
    }
   ],
   "source": [
    "import matplotlib.pyplot as plt\n",
    "import japanize_matplotlib\n",
    "\n",
    "\n",
    "ks = [k for k in d.keys()]\n",
    "vs = [float(v) for v in d.values()]\n",
    "fig = plt.figure()\n",
    "plt.pie(vs, labels=ks, counterclock=False, startangle=90, autopct=\"%1.1f%%\")\n",
    "\n",
    "plt.show()\n",
    "fig.savefig(\"sample.png\")"
   ]
  },
  {
   "cell_type": "code",
   "execution_count": 25,
   "id": "f4344099",
   "metadata": {},
   "outputs": [],
   "source": [
    "df2 = df[(df[\"コード\"] == 7974)]"
   ]
  },
  {
   "cell_type": "code",
   "execution_count": 26,
   "id": "08240216",
   "metadata": {},
   "outputs": [
    {
     "data": {
      "text/html": [
       "<div>\n",
       "<style scoped>\n",
       "    .dataframe tbody tr th:only-of-type {\n",
       "        vertical-align: middle;\n",
       "    }\n",
       "\n",
       "    .dataframe tbody tr th {\n",
       "        vertical-align: top;\n",
       "    }\n",
       "\n",
       "    .dataframe thead th {\n",
       "        text-align: right;\n",
       "    }\n",
       "</style>\n",
       "<table border=\"1\" class=\"dataframe\">\n",
       "  <thead>\n",
       "    <tr style=\"text-align: right;\">\n",
       "      <th></th>\n",
       "      <th>コード</th>\n",
       "      <th>会社名</th>\n",
       "      <th>市場区分</th>\n",
       "      <th>新市場区分</th>\n",
       "      <th>「上場維持基準の適合に向けた計画書」を開示している会社</th>\n",
       "      <th>備考</th>\n",
       "    </tr>\n",
       "  </thead>\n",
       "  <tbody>\n",
       "    <tr>\n",
       "      <th>3005</th>\n",
       "      <td>7974</td>\n",
       "      <td>任天堂株式会社</td>\n",
       "      <td>市場第一部</td>\n",
       "      <td>プライム市場</td>\n",
       "      <td>NaN</td>\n",
       "      <td>NaN</td>\n",
       "    </tr>\n",
       "  </tbody>\n",
       "</table>\n",
       "</div>"
      ],
      "text/plain": [
       "       コード      会社名   市場区分   新市場区分 「上場維持基準の適合に向けた計画書」を開示している会社   備考\n",
       "3005  7974  任天堂株式会社  市場第一部  プライム市場                         NaN  NaN"
      ]
     },
     "execution_count": 26,
     "metadata": {},
     "output_type": "execute_result"
    }
   ],
   "source": [
    "df2"
   ]
  },
  {
   "cell_type": "code",
   "execution_count": null,
   "id": "c4d8fdd7",
   "metadata": {},
   "outputs": [],
   "source": []
  }
 ],
 "metadata": {
  "kernelspec": {
   "display_name": "Python 3",
   "language": "python",
   "name": "python3"
  },
  "language_info": {
   "codemirror_mode": {
    "name": "ipython",
    "version": 3
   },
   "file_extension": ".py",
   "mimetype": "text/x-python",
   "name": "python",
   "nbconvert_exporter": "python",
   "pygments_lexer": "ipython3",
   "version": "3.7.1"
  }
 },
 "nbformat": 4,
 "nbformat_minor": 5
}
